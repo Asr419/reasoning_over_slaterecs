{
 "cells": [
  {
   "cell_type": "code",
   "execution_count": 38,
   "metadata": {},
   "outputs": [],
   "source": [
    "import torch\n",
    "from recsys_slates_dataset import dataset_torch\n",
    "import numpy as np\n",
    "import os\n",
    "import json"
   ]
  },
  {
   "cell_type": "code",
   "execution_count": 39,
   "metadata": {},
   "outputs": [
    {
     "name": "stdout",
     "output_type": "stream",
     "text": [
      "Available arrays: ['userId', 'click', 'click_idx', 'slate_lengths', 'slate', 'interaction_type']\n",
      "Slate shape: (2277645, 20, 25)\n",
      "Click shape: (2277645, 20)\n",
      "Interaction Type shape: (2277645, 20)\n",
      "Click Index shape: (2277645, 20)\n",
      "Slate Lengths shape: (2277645, 20)\n"
     ]
    }
   ],
   "source": [
    "\n",
    "current_directory = os.getcwd()\n",
    "data_path = os.path.join(current_directory,\"data\", \"data.npz\")\n",
    "\n",
    "\n",
    "data = np.load(data_path, allow_pickle=True)\n",
    "\n",
    "\n",
    "print(\"Available arrays:\", data.files)\n",
    "\n",
    "\n",
    "slate = data[\"slate\"]\n",
    "click = data[\"click\"]\n",
    "interaction_type = data[\"interaction_type\"]\n",
    "click_idx = data[\"click_idx\"]\n",
    "slate_lengths = data[\"slate_lengths\"]\n",
    "\n",
    "\n",
    "print(\"Slate shape:\", slate.shape)\n",
    "print(\"Click shape:\", click.shape)\n",
    "print(\"Interaction Type shape:\", interaction_type.shape)\n",
    "print(\"Click Index shape:\", click_idx.shape)\n",
    "print(\"Slate Lengths shape:\", slate_lengths.shape)"
   ]
  },
  {
   "cell_type": "code",
   "execution_count": 40,
   "metadata": {},
   "outputs": [
    {
     "name": "stdout",
     "output_type": "stream",
     "text": [
      "Presented Slate for User 5 at Interaction 3: [     1 638995 638947 638711 637590 637930 638894      0      0      0\n",
      "      0      0      0      0      0      0      0      0      0      0\n",
      "      0      0      0      0      0]\n",
      "User Click for User 5 at Interaction 3: 637590\n"
     ]
    }
   ],
   "source": [
    "user_id = 5\n",
    "interaction_num = 3\n",
    "\n",
    "# Get the presented slate and click information\n",
    "presented_slate = slate[user_id, interaction_num]\n",
    "user_click = click[user_id, interaction_num]\n",
    "\n",
    "print(f\"Presented Slate for User {user_id} at Interaction {interaction_num}:\", presented_slate)\n",
    "print(f\"User Click for User {user_id} at Interaction {interaction_num}:\", user_click)\n"
   ]
  },
  {
   "cell_type": "code",
   "execution_count": 41,
   "metadata": {},
   "outputs": [
    {
     "name": "stdout",
     "output_type": "stream",
     "text": [
      " \n",
      "category first entries:\n",
      "0: PAD\n",
      "1: noClick\n",
      "2: <UNK>\n",
      "3: BAP,antiques,Trøndelag\n",
      "4: MOTOR,,Sogn og Fjordane\n",
      "5: BAP,electronicsappliances,Finnmark\n",
      "6: BAP,entertainmenthobbyleisure,Østfold\n",
      "7: MOTOR,,Hedmark\n",
      "8: BAP,antiques\n",
      "9: BOAT,,Møre og Romsdal\n",
      "10: BAP,animalsequipment,Østfold\n",
      "11: BAP,entertainmenthobbyleisure,Møre og Romsdal\n",
      "12: BAP,housegardenrenovation,Østfold\n",
      "13: REAL_ESTATE,,Møre og Romsdal\n",
      "14: BAP,business,Oppland\n",
      "15: BAP\n",
      "16: BAP,housegardenrenovation,Rogaland\n",
      "17: BAP,housegardenrenovation,Vestfold\n",
      "18: BAP,business,Troms\n",
      "19: BAP,electronicsappliances,\n",
      "20: BAP,furnitureinterior,Møre og Romsdal\n",
      "21: BAP,parentschildren,Møre og Romsdal\n",
      "22: BAP,sportsoutdoors,Vest-Agder\n",
      "23: BAP,animalsequipment,Sogn og Fjordane\n",
      "24: BAP,electronicsappliances,Sogn og Fjordane\n",
      "25: BAP,sportsoutdoors,Nordland\n",
      "26: BAP,sportsoutdoors,Rogaland\n",
      "27: MOTOR,,Møre og Romsdal\n",
      "28: BAP,animalsequipment,Rogaland\n",
      "29: BAP,electronicsappliances,Trøndelag\n",
      "30: BAP,sportsoutdoors,Buskerud\n",
      "31: BAP,parentschildren,Trøndelag\n",
      "32: BAP,business,Sogn og Fjordane\n",
      "33: BAP,clothescosmeticsaccessories,Troms\n",
      "34: BOAT,,Østfold\n",
      "35: BAP,clothescosmeticsaccessories,Vestfold\n",
      "36: BAP,sportsoutdoors,Trøndelag\n",
      "37: BAP,carmcboat,Akershus\n",
      "38: BOAT,,Oppland\n",
      "39: BAP,housegardenrenovation,Møre og Romsdal\n",
      "40: BAP,entertainmenthobbyleisure,Rogaland\n",
      "41: BAP,entertainmenthobbyleisure,Trøndelag\n",
      "42: BAP,parentschildren,Oppland\n",
      "43: REAL_ESTATE,,Finnmark\n",
      "44: TRAVEL,\n",
      "45: BAP,furnitureinterior,Telemark\n",
      "46: BAP,housegardenrenovation,Troms\n",
      "47: BAP,parentschildren,Hedmark\n",
      "48: BAP,business,Møre og Romsdal\n",
      "49: BAP,entertainmenthobbyleisure,Oslo\n",
      "50: MOTOR,,Vestfold\n",
      "51: BAP,clothescosmeticsaccessories,Vest-Agder\n",
      "52: BAP,electronicsappliances,Vest-Agder\n",
      "53: MOTOR,,Finnmark\n",
      "54: BAP,electronicsappliances,Telemark\n",
      "55: BAP,housegardenrenovation,Vest-Agder\n",
      "56: BAP,animalsequipment,Trøndelag\n",
      "57: BAP,parentschildren,Østfold\n",
      "58: BAP,carmcboat,Rogaland\n",
      "59: BAP,furnitureinterior,Østfold\n",
      "60: JOB,\n",
      "61: MOTOR,,\n",
      "62: BOAT,,Hordaland\n",
      "63: BOAT,,Rogaland\n",
      "64: MOTOR,,Troms\n",
      "65: BAP,animalsequipment,Vestfold\n",
      "66: BAP,business,Telemark\n",
      "67: REAL_ESTATE,,Vest-Agder\n",
      "68: BAP,carmcboat,Buskerud\n",
      "69: BAP,electronicsappliances,Rogaland\n",
      "70: BAP,animalsequipment,Hedmark\n",
      "71: BAP,furnitureinterior,Vest-Agder\n",
      "72: BAP,clothescosmeticsaccessories,Oslo\n",
      "73: BAP,clothescosmeticsaccessories,Telemark\n",
      "74: BAP,furnitureinterior,Sogn og Fjordane\n",
      "75: BAP,business,Vest-Agder\n",
      "76: BAP,carmcboat,Oppland\n",
      "77: BAP,housegardenrenovation,Nordland\n",
      "78: BAP,business,Oslo\n",
      "79: JOB,,Troms\n",
      "80: BAP,antiques,Sogn og Fjordane\n",
      "81: BAP,clothescosmeticsaccessories,Sogn og Fjordane\n",
      "82: BAP,parentschildren,Buskerud\n",
      "83: BAP,sportsoutdoors,Finnmark\n",
      "84: BAP,carmcboat,Vestfold\n",
      "85: REAL_ESTATE,,Sogn og Fjordane\n",
      "86: BAP,antiques,Møre og Romsdal\n",
      "87: BAP,furnitureinterior,Oslo\n",
      "88: BAP,parentschildren,Akershus\n",
      "89: BAP,animalsequipment,\n",
      "90: BAP,sportsoutdoors,Østfold\n",
      "91: BAP,entertainmenthobbyleisure\n",
      "92: JOB,,Telemark\n",
      "93: REAL_ESTATE,,\n",
      "94: BAP,clothescosmeticsaccessories,Hordaland\n",
      "95: BAP,electronicsappliances,Østfold\n",
      "96: REAL_ESTATE,,Trøndelag\n",
      "97: BAP,carmcboat,Hordaland\n",
      "98: BAP,sportsoutdoors,\n",
      "99: JOB,,Østfold\n",
      "100: BAP,clothescosmeticsaccessories\n",
      "101: JOB,,Oslo\n",
      "102: BAP,housegardenrenovation,Akershus\n",
      "103: MOTOR,,Oslo\n",
      "104: BAP,antiques,Buskerud\n",
      "105: BAP,carmcboat\n",
      "106: BAP,carmcboat,Trøndelag\n",
      "107: BAP,sportsoutdoors,Troms\n",
      "108: BAP,business,Østfold\n",
      "109: BAP,sportsoutdoors,Sogn og Fjordane\n",
      "110: BAP,housegardenrenovation,Trøndelag\n",
      "111: MOTOR,,Vest-Agder\n",
      "112: BAP,electronicsappliances,Oppland\n",
      "113: BAP,parentschildren,Vestfold\n",
      "114: BAP,sportsoutdoors,Hedmark\n",
      "115: BAP,antiques,Akershus\n",
      "116: BAP,animalsequipment,Vest-Agder\n",
      "117: BAP,animalsequipment,Nordland\n",
      "118: BAP,antiques,Troms\n",
      "119: BAP,entertainmenthobbyleisure,Troms\n",
      "120: BAP,entertainmenthobbyleisure,Sogn og Fjordane\n",
      "121: BAP,furnitureinterior,Buskerud\n",
      "122: BAP,antiques,Hedmark\n",
      "123: BAP,clothescosmeticsaccessories,Hedmark\n",
      "124: BAP,antiques,Rogaland\n",
      "125: MOTOR,,Akershus\n",
      "126: BAP,animalsequipment,Møre og Romsdal\n",
      "127: BAP,sportsoutdoors,Møre og Romsdal\n",
      "128: BAP,parentschildren,Vest-Agder\n",
      "129: BAP,furnitureinterior,Rogaland\n",
      "130: BAP,housegardenrenovation\n",
      "131: BAP,sportsoutdoors,Oslo\n",
      "132: JOB,,Møre og Romsdal\n",
      "133: BAP,sportsoutdoors,Aust-Agder\n",
      "134: BAP,entertainmenthobbyleisure,Telemark\n",
      "135: REAL_ESTATE,,Oppland\n",
      "136: BAP,furnitureinterior,Hordaland\n",
      "137: BAP,housegardenrenovation,Telemark\n",
      "138: BAP,entertainmenthobbyleisure,Oppland\n",
      "139: MOTOR,,Aust-Agder\n",
      "140: BAP,electronicsappliances,Troms\n",
      "141: BAP,sportsoutdoors,Telemark\n",
      "142: BAP,carmcboat,Sogn og Fjordane\n",
      "143: BAP,housegardenrenovation,Oppland\n",
      "144: MOTOR,,Buskerud\n",
      "145: BAP,clothescosmeticsaccessories,Finnmark\n",
      "146: REAL_ESTATE,,Buskerud\n",
      "147: BOAT,,Oslo\n",
      "148: BAP,housegardenrenovation,Hordaland\n",
      "149: BOAT,,Aust-Agder\n",
      "150: BAP,antiques,Oslo\n",
      "151: REAL_ESTATE,,Akershus\n",
      "152: BAP,business,\n",
      "153: BAP,housegardenrenovation,Aust-Agder\n",
      "154: REAL_ESTATE,,Telemark\n",
      "155: BAP,antiques,Aust-Agder\n",
      "156: BAP,clothescosmeticsaccessories,\n",
      "157: MOTOR,,Rogaland\n",
      "158: MOTOR,,Trøndelag\n",
      "159: BAP,animalsequipment,Hordaland\n",
      "160: BAP,animalsequipment,Troms\n",
      "161: REAL_ESTATE,,Nordland\n",
      "162: BAP,carmcboat,Oslo\n",
      "163: BOAT,\n",
      "164: BAP,antiques,Nordland\n",
      "165: BAP,clothescosmeticsaccessories,Rogaland\n",
      "166: BAP,electronicsappliances,Buskerud\n",
      "167: BAP,clothescosmeticsaccessories,Oppland\n",
      "168: BAP,parentschildren,Nordland\n",
      "169: BAP,business,Akershus\n",
      "170: BAP,carmcboat,\n",
      "171: BAP,parentschildren,Telemark\n",
      "172: REAL_ESTATE,,Vestfold\n",
      "173: BAP,carmcboat,Hedmark\n",
      "174: JOB,,Nordland\n",
      "175: BAP,housegardenrenovation,Buskerud\n",
      "176: BAP,parentschildren,Rogaland\n",
      "177: BAP,business,Buskerud\n",
      "178: BAP,business\n",
      "179: BAP,clothescosmeticsaccessories,Østfold\n",
      "180: BAP,entertainmenthobbyleisure,Finnmark\n",
      "181: BAP,furnitureinterior,Vestfold\n",
      "182: BOAT,,Vestfold\n",
      "183: BAP,antiques,Vest-Agder\n",
      "184: BAP,entertainmenthobbyleisure,Nordland\n",
      "185: BAP,entertainmenthobbyleisure,Aust-Agder\n",
      "186: BOAT,,Nordland\n",
      "187: BAP,electronicsappliances,Vestfold\n",
      "188: BAP,parentschildren,Troms\n",
      "189: BAP,animalsequipment,Buskerud\n",
      "190: BAP,business,Aust-Agder\n",
      "191: MOTOR,,Nordland\n",
      "192: BAP,animalsequipment,Akershus\n",
      "193: BAP,electronicsappliances,Nordland\n",
      "194: BOAT,,Buskerud\n",
      "195: BOAT,,Sogn og Fjordane\n",
      "196: BOAT,,Troms\n",
      "197: BAP,entertainmenthobbyleisure,Hedmark\n",
      "198: BAP,sportsoutdoors,Hordaland\n",
      "199: BAP,furnitureinterior\n",
      "200: BAP,entertainmenthobbyleisure,Akershus\n",
      "201: REAL_ESTATE,,Oslo\n",
      "202: BAP,electronicsappliances,Hedmark\n",
      "203: BAP,antiques,Oppland\n",
      "204: BAP,housegardenrenovation,Oslo\n",
      "205: BAP,electronicsappliances,Oslo\n",
      "206: BAP,business,Hedmark\n",
      "207: BAP,clothescosmeticsaccessories,Akershus\n",
      "208: BAP,carmcboat,Finnmark\n",
      "209: BAP,furnitureinterior,Akershus\n",
      "210: BAP,furnitureinterior,Troms\n",
      "211: BOAT,,Hedmark\n",
      "212: BAP,animalsequipment,Aust-Agder\n",
      "213: BAP,sportsoutdoors,Vestfold\n",
      "214: BAP,antiques,Telemark\n",
      "215: BAP,electronicsappliances,Akershus\n",
      "216: BAP,furnitureinterior,\n",
      "217: BAP,furnitureinterior,Oppland\n",
      "218: MOTOR,,Hordaland\n",
      "219: BAP,carmcboat,Aust-Agder\n",
      "220: BAP,entertainmenthobbyleisure,Vest-Agder\n",
      "221: REAL_ESTATE,,Østfold\n",
      "222: BAP,clothescosmeticsaccessories,Nordland\n",
      "223: BAP,entertainmenthobbyleisure,Vestfold\n",
      "224: BAP,electronicsappliances,Hordaland\n",
      "225: BAP,animalsequipment,Telemark\n",
      "226: JOB,,Vestfold\n",
      "227: BAP,parentschildren,Sogn og Fjordane\n",
      "228: JOB,,Hordaland\n",
      "229: JOB,,Oppland\n",
      "230: BOAT,,Telemark\n",
      "231: BAP,furnitureinterior,Nordland\n",
      "232: BAP,housegardenrenovation,Sogn og Fjordane\n",
      "233: JOB,,Trøndelag\n",
      "234: BAP,animalsequipment\n",
      "235: BAP,antiques,Vestfold\n",
      "236: REAL_ESTATE,,Hordaland\n",
      "237: BAP,business,Nordland\n",
      "238: BOAT,,Trøndelag\n",
      "239: MOTOR,,Telemark\n",
      "240: BOAT,,Akershus\n",
      "241: BAP,entertainmenthobbyleisure,Buskerud\n",
      "242: MOTOR,,Østfold\n",
      "243: BAP,parentschildren\n",
      "244: BAP,furnitureinterior,Aust-Agder\n",
      "245: BAP,parentschildren,\n",
      "246: MOTOR,\n",
      "247: BAP,antiques,Østfold\n",
      "248: JOB,,Vest-Agder\n",
      "249: JOB,,Akershus\n",
      "250: BAP,housegardenrenovation,\n",
      "251: REAL_ESTATE,,Hedmark\n",
      "252: BAP,clothescosmeticsaccessories,Møre og Romsdal\n",
      "253: BAP,antiques,Hordaland\n",
      "254: BAP,furnitureinterior,Trøndelag\n",
      "255: BAP,sportsoutdoors,Akershus\n",
      "256: BAP,animalsequipment,Oppland\n",
      "257: BAP,entertainmenthobbyleisure,\n",
      "258: BAP,parentschildren,Oslo\n",
      "259: MOTOR,,Oppland\n",
      "260: BAP,business,Vestfold\n",
      "261: BAP,carmcboat,Østfold\n",
      "262: BAP,parentschildren,Hordaland\n",
      "263: REAL_ESTATE,,Rogaland\n",
      "264: REAL_ESTATE,\n",
      "265: BAP,carmcboat,Vest-Agder\n",
      "266: BAP,clothescosmeticsaccessories,Trøndelag\n",
      "267: BAP,electronicsappliances,Møre og Romsdal\n",
      "268: BAP,business,Rogaland\n",
      "269: JOB,,Hedmark\n",
      "270: BAP,carmcboat,Troms\n",
      "271: BAP,business,Trøndelag\n",
      "272: BAP,housegardenrenovation,Hedmark\n",
      "273: BAP,animalsequipment,Oslo\n",
      "274: BAP,carmcboat,Møre og Romsdal\n",
      "275: BAP,clothescosmeticsaccessories,Aust-Agder\n",
      "276: BOAT,,Vest-Agder\n",
      "277: JOB,,Buskerud\n",
      "278: REAL_ESTATE,,Aust-Agder\n",
      "279: BAP,parentschildren,Aust-Agder\n",
      "280: BAP,sportsoutdoors,Oppland\n",
      "281: BAP,electronicsappliances,Aust-Agder\n",
      "282: REAL_ESTATE,,Troms\n",
      "283: BAP,clothescosmeticsaccessories,Buskerud\n",
      "284: BAP,business,Hordaland\n",
      "285: BAP,entertainmenthobbyleisure,Hordaland\n",
      "286: BAP,carmcboat,Telemark\n",
      "287: JOB,,Rogaland\n",
      "288: BAP,furnitureinterior,Hedmark\n",
      "289: BAP,carmcboat,Nordland\n",
      " \n",
      "interaction_type first entries:\n",
      "1: search\n",
      "2: rec\n",
      "0: <UNK>\n",
      "Keys in ind2val.json: dict_keys(['category', 'interaction_type'])\n",
      "Category Mapping Sample: [('0', 'PAD'), ('1', 'noClick'), ('2', '<UNK>'), ('3', 'BAP,antiques,Trøndelag'), ('4', 'MOTOR,,Sogn og Fjordane'), ('5', 'BAP,electronicsappliances,Finnmark'), ('6', 'BAP,entertainmenthobbyleisure,Østfold'), ('7', 'MOTOR,,Hedmark'), ('8', 'BAP,antiques'), ('9', 'BOAT,,Møre og Romsdal'), ('10', 'BAP,animalsequipment,Østfold'), ('11', 'BAP,entertainmenthobbyleisure,Møre og Romsdal'), ('12', 'BAP,housegardenrenovation,Østfold'), ('13', 'REAL_ESTATE,,Møre og Romsdal'), ('14', 'BAP,business,Oppland'), ('15', 'BAP'), ('16', 'BAP,housegardenrenovation,Rogaland'), ('17', 'BAP,housegardenrenovation,Vestfold'), ('18', 'BAP,business,Troms'), ('19', 'BAP,electronicsappliances,'), ('20', 'BAP,furnitureinterior,Møre og Romsdal'), ('21', 'BAP,parentschildren,Møre og Romsdal'), ('22', 'BAP,sportsoutdoors,Vest-Agder'), ('23', 'BAP,animalsequipment,Sogn og Fjordane'), ('24', 'BAP,electronicsappliances,Sogn og Fjordane'), ('25', 'BAP,sportsoutdoors,Nordland'), ('26', 'BAP,sportsoutdoors,Rogaland'), ('27', 'MOTOR,,Møre og Romsdal'), ('28', 'BAP,animalsequipment,Rogaland'), ('29', 'BAP,electronicsappliances,Trøndelag'), ('30', 'BAP,sportsoutdoors,Buskerud'), ('31', 'BAP,parentschildren,Trøndelag'), ('32', 'BAP,business,Sogn og Fjordane'), ('33', 'BAP,clothescosmeticsaccessories,Troms'), ('34', 'BOAT,,Østfold'), ('35', 'BAP,clothescosmeticsaccessories,Vestfold'), ('36', 'BAP,sportsoutdoors,Trøndelag'), ('37', 'BAP,carmcboat,Akershus'), ('38', 'BOAT,,Oppland'), ('39', 'BAP,housegardenrenovation,Møre og Romsdal'), ('40', 'BAP,entertainmenthobbyleisure,Rogaland'), ('41', 'BAP,entertainmenthobbyleisure,Trøndelag'), ('42', 'BAP,parentschildren,Oppland'), ('43', 'REAL_ESTATE,,Finnmark'), ('44', 'TRAVEL,'), ('45', 'BAP,furnitureinterior,Telemark'), ('46', 'BAP,housegardenrenovation,Troms'), ('47', 'BAP,parentschildren,Hedmark'), ('48', 'BAP,business,Møre og Romsdal'), ('49', 'BAP,entertainmenthobbyleisure,Oslo'), ('50', 'MOTOR,,Vestfold'), ('51', 'BAP,clothescosmeticsaccessories,Vest-Agder'), ('52', 'BAP,electronicsappliances,Vest-Agder'), ('53', 'MOTOR,,Finnmark'), ('54', 'BAP,electronicsappliances,Telemark'), ('55', 'BAP,housegardenrenovation,Vest-Agder'), ('56', 'BAP,animalsequipment,Trøndelag'), ('57', 'BAP,parentschildren,Østfold'), ('58', 'BAP,carmcboat,Rogaland'), ('59', 'BAP,furnitureinterior,Østfold'), ('60', 'JOB,'), ('61', 'MOTOR,,'), ('62', 'BOAT,,Hordaland'), ('63', 'BOAT,,Rogaland'), ('64', 'MOTOR,,Troms'), ('65', 'BAP,animalsequipment,Vestfold'), ('66', 'BAP,business,Telemark'), ('67', 'REAL_ESTATE,,Vest-Agder'), ('68', 'BAP,carmcboat,Buskerud'), ('69', 'BAP,electronicsappliances,Rogaland'), ('70', 'BAP,animalsequipment,Hedmark'), ('71', 'BAP,furnitureinterior,Vest-Agder'), ('72', 'BAP,clothescosmeticsaccessories,Oslo'), ('73', 'BAP,clothescosmeticsaccessories,Telemark'), ('74', 'BAP,furnitureinterior,Sogn og Fjordane'), ('75', 'BAP,business,Vest-Agder'), ('76', 'BAP,carmcboat,Oppland'), ('77', 'BAP,housegardenrenovation,Nordland'), ('78', 'BAP,business,Oslo'), ('79', 'JOB,,Troms'), ('80', 'BAP,antiques,Sogn og Fjordane'), ('81', 'BAP,clothescosmeticsaccessories,Sogn og Fjordane'), ('82', 'BAP,parentschildren,Buskerud'), ('83', 'BAP,sportsoutdoors,Finnmark'), ('84', 'BAP,carmcboat,Vestfold'), ('85', 'REAL_ESTATE,,Sogn og Fjordane'), ('86', 'BAP,antiques,Møre og Romsdal'), ('87', 'BAP,furnitureinterior,Oslo'), ('88', 'BAP,parentschildren,Akershus'), ('89', 'BAP,animalsequipment,'), ('90', 'BAP,sportsoutdoors,Østfold'), ('91', 'BAP,entertainmenthobbyleisure'), ('92', 'JOB,,Telemark'), ('93', 'REAL_ESTATE,,'), ('94', 'BAP,clothescosmeticsaccessories,Hordaland'), ('95', 'BAP,electronicsappliances,Østfold'), ('96', 'REAL_ESTATE,,Trøndelag'), ('97', 'BAP,carmcboat,Hordaland'), ('98', 'BAP,sportsoutdoors,'), ('99', 'JOB,,Østfold'), ('100', 'BAP,clothescosmeticsaccessories'), ('101', 'JOB,,Oslo'), ('102', 'BAP,housegardenrenovation,Akershus'), ('103', 'MOTOR,,Oslo'), ('104', 'BAP,antiques,Buskerud'), ('105', 'BAP,carmcboat'), ('106', 'BAP,carmcboat,Trøndelag'), ('107', 'BAP,sportsoutdoors,Troms'), ('108', 'BAP,business,Østfold'), ('109', 'BAP,sportsoutdoors,Sogn og Fjordane'), ('110', 'BAP,housegardenrenovation,Trøndelag'), ('111', 'MOTOR,,Vest-Agder'), ('112', 'BAP,electronicsappliances,Oppland'), ('113', 'BAP,parentschildren,Vestfold'), ('114', 'BAP,sportsoutdoors,Hedmark'), ('115', 'BAP,antiques,Akershus'), ('116', 'BAP,animalsequipment,Vest-Agder'), ('117', 'BAP,animalsequipment,Nordland'), ('118', 'BAP,antiques,Troms'), ('119', 'BAP,entertainmenthobbyleisure,Troms'), ('120', 'BAP,entertainmenthobbyleisure,Sogn og Fjordane'), ('121', 'BAP,furnitureinterior,Buskerud'), ('122', 'BAP,antiques,Hedmark'), ('123', 'BAP,clothescosmeticsaccessories,Hedmark'), ('124', 'BAP,antiques,Rogaland'), ('125', 'MOTOR,,Akershus'), ('126', 'BAP,animalsequipment,Møre og Romsdal'), ('127', 'BAP,sportsoutdoors,Møre og Romsdal'), ('128', 'BAP,parentschildren,Vest-Agder'), ('129', 'BAP,furnitureinterior,Rogaland'), ('130', 'BAP,housegardenrenovation'), ('131', 'BAP,sportsoutdoors,Oslo'), ('132', 'JOB,,Møre og Romsdal'), ('133', 'BAP,sportsoutdoors,Aust-Agder'), ('134', 'BAP,entertainmenthobbyleisure,Telemark'), ('135', 'REAL_ESTATE,,Oppland'), ('136', 'BAP,furnitureinterior,Hordaland'), ('137', 'BAP,housegardenrenovation,Telemark'), ('138', 'BAP,entertainmenthobbyleisure,Oppland'), ('139', 'MOTOR,,Aust-Agder'), ('140', 'BAP,electronicsappliances,Troms'), ('141', 'BAP,sportsoutdoors,Telemark'), ('142', 'BAP,carmcboat,Sogn og Fjordane'), ('143', 'BAP,housegardenrenovation,Oppland'), ('144', 'MOTOR,,Buskerud'), ('145', 'BAP,clothescosmeticsaccessories,Finnmark'), ('146', 'REAL_ESTATE,,Buskerud'), ('147', 'BOAT,,Oslo'), ('148', 'BAP,housegardenrenovation,Hordaland'), ('149', 'BOAT,,Aust-Agder'), ('150', 'BAP,antiques,Oslo'), ('151', 'REAL_ESTATE,,Akershus'), ('152', 'BAP,business,'), ('153', 'BAP,housegardenrenovation,Aust-Agder'), ('154', 'REAL_ESTATE,,Telemark'), ('155', 'BAP,antiques,Aust-Agder'), ('156', 'BAP,clothescosmeticsaccessories,'), ('157', 'MOTOR,,Rogaland'), ('158', 'MOTOR,,Trøndelag'), ('159', 'BAP,animalsequipment,Hordaland'), ('160', 'BAP,animalsequipment,Troms'), ('161', 'REAL_ESTATE,,Nordland'), ('162', 'BAP,carmcboat,Oslo'), ('163', 'BOAT,'), ('164', 'BAP,antiques,Nordland'), ('165', 'BAP,clothescosmeticsaccessories,Rogaland'), ('166', 'BAP,electronicsappliances,Buskerud'), ('167', 'BAP,clothescosmeticsaccessories,Oppland'), ('168', 'BAP,parentschildren,Nordland'), ('169', 'BAP,business,Akershus'), ('170', 'BAP,carmcboat,'), ('171', 'BAP,parentschildren,Telemark'), ('172', 'REAL_ESTATE,,Vestfold'), ('173', 'BAP,carmcboat,Hedmark'), ('174', 'JOB,,Nordland'), ('175', 'BAP,housegardenrenovation,Buskerud'), ('176', 'BAP,parentschildren,Rogaland'), ('177', 'BAP,business,Buskerud'), ('178', 'BAP,business'), ('179', 'BAP,clothescosmeticsaccessories,Østfold'), ('180', 'BAP,entertainmenthobbyleisure,Finnmark'), ('181', 'BAP,furnitureinterior,Vestfold'), ('182', 'BOAT,,Vestfold'), ('183', 'BAP,antiques,Vest-Agder'), ('184', 'BAP,entertainmenthobbyleisure,Nordland'), ('185', 'BAP,entertainmenthobbyleisure,Aust-Agder'), ('186', 'BOAT,,Nordland'), ('187', 'BAP,electronicsappliances,Vestfold'), ('188', 'BAP,parentschildren,Troms'), ('189', 'BAP,animalsequipment,Buskerud'), ('190', 'BAP,business,Aust-Agder'), ('191', 'MOTOR,,Nordland'), ('192', 'BAP,animalsequipment,Akershus'), ('193', 'BAP,electronicsappliances,Nordland'), ('194', 'BOAT,,Buskerud'), ('195', 'BOAT,,Sogn og Fjordane'), ('196', 'BOAT,,Troms'), ('197', 'BAP,entertainmenthobbyleisure,Hedmark'), ('198', 'BAP,sportsoutdoors,Hordaland'), ('199', 'BAP,furnitureinterior'), ('200', 'BAP,entertainmenthobbyleisure,Akershus'), ('201', 'REAL_ESTATE,,Oslo'), ('202', 'BAP,electronicsappliances,Hedmark'), ('203', 'BAP,antiques,Oppland'), ('204', 'BAP,housegardenrenovation,Oslo'), ('205', 'BAP,electronicsappliances,Oslo'), ('206', 'BAP,business,Hedmark'), ('207', 'BAP,clothescosmeticsaccessories,Akershus'), ('208', 'BAP,carmcboat,Finnmark'), ('209', 'BAP,furnitureinterior,Akershus'), ('210', 'BAP,furnitureinterior,Troms'), ('211', 'BOAT,,Hedmark'), ('212', 'BAP,animalsequipment,Aust-Agder'), ('213', 'BAP,sportsoutdoors,Vestfold'), ('214', 'BAP,antiques,Telemark'), ('215', 'BAP,electronicsappliances,Akershus'), ('216', 'BAP,furnitureinterior,'), ('217', 'BAP,furnitureinterior,Oppland'), ('218', 'MOTOR,,Hordaland'), ('219', 'BAP,carmcboat,Aust-Agder'), ('220', 'BAP,entertainmenthobbyleisure,Vest-Agder'), ('221', 'REAL_ESTATE,,Østfold'), ('222', 'BAP,clothescosmeticsaccessories,Nordland'), ('223', 'BAP,entertainmenthobbyleisure,Vestfold'), ('224', 'BAP,electronicsappliances,Hordaland'), ('225', 'BAP,animalsequipment,Telemark'), ('226', 'JOB,,Vestfold'), ('227', 'BAP,parentschildren,Sogn og Fjordane'), ('228', 'JOB,,Hordaland'), ('229', 'JOB,,Oppland'), ('230', 'BOAT,,Telemark'), ('231', 'BAP,furnitureinterior,Nordland'), ('232', 'BAP,housegardenrenovation,Sogn og Fjordane'), ('233', 'JOB,,Trøndelag'), ('234', 'BAP,animalsequipment'), ('235', 'BAP,antiques,Vestfold'), ('236', 'REAL_ESTATE,,Hordaland'), ('237', 'BAP,business,Nordland'), ('238', 'BOAT,,Trøndelag'), ('239', 'MOTOR,,Telemark'), ('240', 'BOAT,,Akershus'), ('241', 'BAP,entertainmenthobbyleisure,Buskerud'), ('242', 'MOTOR,,Østfold'), ('243', 'BAP,parentschildren'), ('244', 'BAP,furnitureinterior,Aust-Agder'), ('245', 'BAP,parentschildren,'), ('246', 'MOTOR,'), ('247', 'BAP,antiques,Østfold'), ('248', 'JOB,,Vest-Agder'), ('249', 'JOB,,Akershus'), ('250', 'BAP,housegardenrenovation,'), ('251', 'REAL_ESTATE,,Hedmark'), ('252', 'BAP,clothescosmeticsaccessories,Møre og Romsdal'), ('253', 'BAP,antiques,Hordaland'), ('254', 'BAP,furnitureinterior,Trøndelag'), ('255', 'BAP,sportsoutdoors,Akershus'), ('256', 'BAP,animalsequipment,Oppland'), ('257', 'BAP,entertainmenthobbyleisure,'), ('258', 'BAP,parentschildren,Oslo'), ('259', 'MOTOR,,Oppland'), ('260', 'BAP,business,Vestfold'), ('261', 'BAP,carmcboat,Østfold'), ('262', 'BAP,parentschildren,Hordaland'), ('263', 'REAL_ESTATE,,Rogaland'), ('264', 'REAL_ESTATE,'), ('265', 'BAP,carmcboat,Vest-Agder'), ('266', 'BAP,clothescosmeticsaccessories,Trøndelag'), ('267', 'BAP,electronicsappliances,Møre og Romsdal'), ('268', 'BAP,business,Rogaland'), ('269', 'JOB,,Hedmark'), ('270', 'BAP,carmcboat,Troms'), ('271', 'BAP,business,Trøndelag'), ('272', 'BAP,housegardenrenovation,Hedmark'), ('273', 'BAP,animalsequipment,Oslo'), ('274', 'BAP,carmcboat,Møre og Romsdal'), ('275', 'BAP,clothescosmeticsaccessories,Aust-Agder'), ('276', 'BOAT,,Vest-Agder'), ('277', 'JOB,,Buskerud'), ('278', 'REAL_ESTATE,,Aust-Agder'), ('279', 'BAP,parentschildren,Aust-Agder'), ('280', 'BAP,sportsoutdoors,Oppland'), ('281', 'BAP,electronicsappliances,Aust-Agder'), ('282', 'REAL_ESTATE,,Troms'), ('283', 'BAP,clothescosmeticsaccessories,Buskerud'), ('284', 'BAP,business,Hordaland'), ('285', 'BAP,entertainmenthobbyleisure,Hordaland'), ('286', 'BAP,carmcboat,Telemark')]\n",
      "Interaction Type Mapping Sample: [('1', 'search'), ('2', 'rec'), ('0', '<UNK>')]\n"
     ]
    }
   ],
   "source": [
    "\n",
    "json_path = os.path.join(current_directory, \"data\", \"ind2val.json\")\n",
    "\n",
    "with open(json_path, \"r\") as file:\n",
    "    ind2val = json.load(file)\n",
    "\n",
    "for key, val in ind2val.items():\n",
    "  print(\" \")\n",
    "  print(f\"{key} first entries:\")\n",
    "  for idx, name in val.items():\n",
    "    print(f\"{idx}: {val[idx]}\")\n",
    "    \n",
    "\n",
    "# Explore the keys and values\n",
    "print(\"Keys in ind2val.json:\", ind2val.keys())\n",
    "print(\"Category Mapping Sample:\", list(ind2val[\"category\"].items())[:-3])\n",
    "print(\"Interaction Type Mapping Sample:\", list(ind2val[\"interaction_type\"].items()))\n"
   ]
  },
  {
   "cell_type": "code",
   "execution_count": 43,
   "metadata": {},
   "outputs": [
    {
     "name": "stdout",
     "output_type": "stream",
     "text": [
      "Category shape: (1311775,)\n",
      "Available arrays in itemattr.npz: ['category']\n"
     ]
    }
   ],
   "source": [
    "itemattr_path = os.path.join(current_directory, \"data\", \"itemattr.npz\")\n",
    "itemattr_data = np.load(itemattr_path, allow_pickle=True)\n",
    "category=itemattr_data['category']\n",
    "print(\"Category shape:\", category.shape)\n",
    "\n",
    "print(\"Available arrays in itemattr.npz:\", itemattr_data.files)\n"
   ]
  },
  {
   "cell_type": "code",
   "execution_count": 57,
   "metadata": {},
   "outputs": [
    {
     "data": {
      "text/plain": [
       "'BAP,entertainmenthobbyleisure,Telemark'"
      ]
     },
     "execution_count": 57,
     "metadata": {},
     "output_type": "execute_result"
    }
   ],
   "source": [
    "ind2val['category'].get(str(134))"
   ]
  },
  {
   "cell_type": "code",
   "execution_count": 63,
   "metadata": {},
   "outputs": [
    {
     "data": {
      "text/plain": [
       "'REAL_ESTATE,,Oppland'"
      ]
     },
     "execution_count": 63,
     "metadata": {},
     "output_type": "execute_result"
    }
   ],
   "source": [
    "ind2val['category'].get(str(int(category[638947])))"
   ]
  },
  {
   "cell_type": "code",
   "execution_count": 55,
   "metadata": {},
   "outputs": [],
   "source": [
    "ind2val['category'].get(134)"
   ]
  },
  {
   "cell_type": "code",
   "execution_count": 65,
   "metadata": {},
   "outputs": [
    {
     "name": "stdout",
     "output_type": "stream",
     "text": [
      "Mapped Categories for Presented Slate: ['noClick', 'BOAT,,Akershus', '<UNK>', 'BOAT,,Vestfold', 'BOAT,,Akershus', 'BOAT,,Rogaland', 'BOAT,,Trøndelag', 'PAD', 'PAD', 'PAD', 'PAD', 'PAD', 'PAD', 'PAD', 'PAD', 'PAD', 'PAD', 'PAD', 'PAD', 'PAD', 'PAD', 'PAD', 'PAD', 'PAD', 'PAD']\n"
     ]
    }
   ],
   "source": [
    "# Get the slate for User 5 at Interaction 3\n",
    "presented_slate = slate[8, 3]\n",
    "\n",
    "# Map each index in the slate to its category string\n",
    "mapped_categories = [ind2val[\"category\"].get(str(int(category[idx])),\"<UNK>\") for idx in presented_slate]\n",
    "print(\"Mapped Categories for Presented Slate:\", mapped_categories)\n"
   ]
  },
  {
   "cell_type": "code",
   "execution_count": null,
   "metadata": {},
   "outputs": [
    {
     "name": "stdout",
     "output_type": "stream",
     "text": [
      "Interaction Type: rec\n"
     ]
    }
   ],
   "source": [
    "# Get the interaction type for User 5 at Interaction 3\n",
    "interaction_type_idx = interaction_type[5, 8]\n",
    "mapped_interaction_type = ind2val[\"interaction_type\"].get(str(interaction_type_idx), \"<UNK>\")\n",
    "print(\"Interaction Type:\", mapped_interaction_type)\n"
   ]
  },
  {
   "cell_type": "code",
   "execution_count": 23,
   "metadata": {},
   "outputs": [
    {
     "name": "stdout",
     "output_type": "stream",
     "text": [
      "Sample Keys in Category Mapping: ['0', '1', '2', '3', '4', '5', '6', '7', '8', '9']\n",
      "Total Mappings in Category: 290\n"
     ]
    }
   ],
   "source": [
    "print(\"Sample Keys in Category Mapping:\", list(ind2val[\"category\"].keys())[:10])\n",
    "print(\"Total Mappings in Category:\", len(ind2val[\"category\"]))\n"
   ]
  },
  {
   "cell_type": "code",
   "execution_count": 25,
   "metadata": {},
   "outputs": [
    {
     "name": "stdout",
     "output_type": "stream",
     "text": [
      "Mapped Valid Categories: ['PAD', 'noClick', '<UNK>', 'BAP,antiques,Trøndelag', 'MOTOR,,Sogn og Fjordane', 'BAP,electronicsappliances,Finnmark', 'BAP,entertainmenthobbyleisure,Østfold', 'MOTOR,,Hedmark', 'BAP,antiques', 'BOAT,,Møre og Romsdal']\n",
      "Total Valid Mapped Categories: 289\n"
     ]
    }
   ],
   "source": [
    "unique_indices = np.unique(slate)\n",
    "valid_categories = [ind2val[\"category\"].get(str(idx)) for idx in unique_indices if str(idx) in ind2val[\"category\"]]\n",
    "print(\"Mapped Valid Categories:\", valid_categories[:10])\n",
    "print(\"Total Valid Mapped Categories:\", len(valid_categories))\n"
   ]
  },
  {
   "cell_type": "code",
   "execution_count": 67,
   "metadata": {},
   "outputs": [
    {
     "name": "stdout",
     "output_type": "stream",
     "text": [
      "Find the itemId that were click by user 5 in interaction 3:\n",
      "itemId: [np.int64(637590)]\n",
      "\n",
      "Find the category of that item in itemattr:\n",
      "Category for item [np.int64(637590)]: REAL_ESTATE,,Oppland\n"
     ]
    },
    {
     "name": "stderr",
     "output_type": "stream",
     "text": [
      "/tmp/ipykernel_1381013/2354704819.py:6: DeprecationWarning: Conversion of an array with ndim > 0 to a scalar is deprecated, and will error in future. Ensure you extract a single element from your array before performing this operation. (Deprecated NumPy 1.25.)\n",
      "  category_str = ind2val[\"category\"].get(str(int(category[itemId])), \"<UNK>\")\n"
     ]
    }
   ],
   "source": [
    "print(\"Find the itemId that were click by user 5 in interaction 3:\")\n",
    "itemId = [data['click'][5,3]]\n",
    "print(f\"itemId: {itemId}\")\n",
    "\n",
    "print(\"\\nFind the category of that item in itemattr:\")\n",
    "category_str = ind2val[\"category\"].get(str(int(category[itemId])), \"<UNK>\")\n",
    "print(f\"Category for item {itemId}: {category_str}\")\n"
   ]
  }
 ],
 "metadata": {
  "kernelspec": {
   "display_name": ".venv",
   "language": "python",
   "name": "python3"
  },
  "language_info": {
   "codemirror_mode": {
    "name": "ipython",
    "version": 3
   },
   "file_extension": ".py",
   "mimetype": "text/x-python",
   "name": "python",
   "nbconvert_exporter": "python",
   "pygments_lexer": "ipython3",
   "version": "3.12.3"
  }
 },
 "nbformat": 4,
 "nbformat_minor": 2
}
